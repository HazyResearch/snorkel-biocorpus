{
 "cells": [
  {
   "cell_type": "code",
   "execution_count": 1,
   "metadata": {
    "collapsed": false
   },
   "outputs": [],
   "source": [
    "%load_ext autoreload\n",
    "%autoreload 2\n",
    "%load_ext line_profiler\n",
    "\n",
    "import os\n",
    "os.environ['SNORKELDB'] = 'postgres:///snorkel-biocorpus-sample'\n",
    "\n",
    "from snorkel import SnorkelSession\n",
    "session = SnorkelSession()"
   ]
  },
  {
   "cell_type": "code",
   "execution_count": 2,
   "metadata": {
    "collapsed": false
   },
   "outputs": [
    {
     "data": {
      "text/plain": [
       "Corpus (PubTator Annotated)"
      ]
     },
     "execution_count": 2,
     "metadata": {},
     "output_type": "execute_result"
    }
   ],
   "source": [
    "from snorkel.models import Corpus\n",
    "corpus = Corpus(name='PubTator Annotated')\n",
    "corpus"
   ]
  },
  {
   "cell_type": "code",
   "execution_count": 3,
   "metadata": {
    "collapsed": false
   },
   "outputs": [],
   "source": [
    "from pubtator_parsers import PubtatorDocParser, pubtator_doc_generator\n",
    "from snorkel.udf import UDFRunner\n",
    "\n",
    "corpus_parser = UDFRunner(PubtatorDocParser(), session=session)"
   ]
  },
  {
   "cell_type": "code",
   "execution_count": 4,
   "metadata": {
    "collapsed": false
   },
   "outputs": [
    {
     "name": "stdout",
     "output_type": "stream",
     "text": [
      "[=============================           ] 72%Warning: Non-standard split: mention 'Trypan B', split on 'l' in word 'Blue'\n",
      "[==================================      ] 83%Warning: Non-standard split: mention 'Li', split on '7' in word '6Li/7Li'\n",
      "Warning: Non-standard split: mention 'Li', split on '7' in word '6Li/7Li'\n",
      "[========================================] 100%\n",
      "\n",
      "CPU times: user 13.3 s, sys: 708 ms, total: 14 s\n",
      "Wall time: 2min 41s\n"
     ]
    }
   ],
   "source": [
    "%time corpus_parser.run(\\\n",
    "    pubtator_doc_generator('bioconcepts2pubtator_offsets.sample'), y_set=corpus, max_n=700)"
   ]
  },
  {
   "cell_type": "code",
   "execution_count": 5,
   "metadata": {
    "collapsed": false
   },
   "outputs": [
    {
     "data": {
      "text/plain": [
       "Corpus (PubTator Annotated)"
      ]
     },
     "execution_count": 5,
     "metadata": {},
     "output_type": "execute_result"
    }
   ],
   "source": [
    "corpus"
   ]
  },
  {
   "cell_type": "code",
   "execution_count": 6,
   "metadata": {
    "collapsed": false
   },
   "outputs": [
    {
     "data": {
      "text/plain": [
       "651"
      ]
     },
     "execution_count": 6,
     "metadata": {},
     "output_type": "execute_result"
    }
   ],
   "source": [
    "len(corpus)"
   ]
  },
  {
   "cell_type": "code",
   "execution_count": 7,
   "metadata": {
    "collapsed": false
   },
   "outputs": [
    {
     "data": {
      "text/plain": [
       "5908"
      ]
     },
     "execution_count": 7,
     "metadata": {},
     "output_type": "execute_result"
    }
   ],
   "source": [
    "sents = []\n",
    "for doc in corpus:\n",
    "    for sent in doc.sentences:\n",
    "        sents.append(sent)\n",
    "len(sents)"
   ]
  }
 ],
 "metadata": {
  "kernelspec": {
   "display_name": "Python 2",
   "language": "python",
   "name": "python2"
  },
  "language_info": {
   "codemirror_mode": {
    "name": "ipython",
    "version": 2
   },
   "file_extension": ".py",
   "mimetype": "text/x-python",
   "name": "python",
   "nbconvert_exporter": "python",
   "pygments_lexer": "ipython2",
   "version": "2.7.6"
  }
 },
 "nbformat": 4,
 "nbformat_minor": 1
}
