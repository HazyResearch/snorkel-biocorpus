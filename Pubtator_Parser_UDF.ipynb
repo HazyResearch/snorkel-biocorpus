{
 "cells": [
  {
   "cell_type": "code",
   "execution_count": 1,
   "metadata": {
    "collapsed": false
   },
   "outputs": [],
   "source": [
    "%load_ext autoreload\n",
    "%autoreload 2\n",
    "%load_ext line_profiler\n",
    "\n",
    "import os\n",
    "os.environ['SNORKELDB'] = 'postgres:///snorkel-biocorpus-split'\n",
    "\n",
    "from snorkel import SnorkelSession\n",
    "session = SnorkelSession()"
   ]
  },
  {
   "cell_type": "code",
   "execution_count": 2,
   "metadata": {
    "collapsed": true
   },
   "outputs": [],
   "source": [
    "from pubtator_parsers import PubtatorDocParser, pubtator_doc_generator"
   ]
  },
  {
   "cell_type": "markdown",
   "metadata": {},
   "source": [
    "## Running single-threaded"
   ]
  },
  {
   "cell_type": "code",
   "execution_count": 3,
   "metadata": {
    "collapsed": false
   },
   "outputs": [
    {
     "name": "stdout",
     "output_type": "stream",
     "text": [
      "20 / 20 threads done.\n",
      "\n",
      "CPU times: user 280 ms, sys: 400 ms, total: 680 ms\n",
      "Wall time: 42 s\n"
     ]
    }
   ],
   "source": [
    "from snorkel.udf import UDFRunnerMP\n",
    "\n",
    "corpus_parser = UDFRunnerMP(PubtatorDocParser)\n",
    "doc_generator = pubtator_doc_generator('data/bioconcepts2pubtator_offsets.splits_10000/split_0')\n",
    "%time corpus_parser.run(doc_generator, parallelism=20)"
   ]
  },
  {
   "cell_type": "code",
   "execution_count": 4,
   "metadata": {
    "collapsed": false
   },
   "outputs": [
    {
     "name": "stdout",
     "output_type": "stream",
     "text": [
      "10000\n",
      "25343\n"
     ]
    }
   ],
   "source": [
    "from snorkel.models import Document, Sentence\n",
    "\n",
    "print session.query(Document).count()\n",
    "print session.query(Sentence).count()"
   ]
  },
  {
   "cell_type": "code",
   "execution_count": 9,
   "metadata": {
    "collapsed": false
   },
   "outputs": [
    {
     "name": "stdout",
     "output_type": "stream",
     "text": [
      "20 / 20 threads done.\n",
      "\n",
      "CPU times: user 256 ms, sys: 352 ms, total: 608 ms\n",
      "Wall time: 45.1 s\n"
     ]
    }
   ],
   "source": [
    "corpus_parser = UDFRunnerMP(PubtatorDocParser)\n",
    "doc_generator = pubtator_doc_generator('data/bioconcepts2pubtator_offsets.splits_10000/split_1')\n",
    "%time corpus_parser.run(doc_generator, parallelism=20)"
   ]
  },
  {
   "cell_type": "code",
   "execution_count": 10,
   "metadata": {
    "collapsed": false
   },
   "outputs": [
    {
     "name": "stdout",
     "output_type": "stream",
     "text": [
      "40000\n",
      "192564\n"
     ]
    }
   ],
   "source": [
    "print session.query(Document).count()\n",
    "print session.query(Sentence).count()"
   ]
  },
  {
   "cell_type": "code",
   "execution_count": 11,
   "metadata": {
    "collapsed": false
   },
   "outputs": [
    {
     "name": "stdout",
     "output_type": "stream",
     "text": [
      "20 / 20 threads done.\n",
      "\n",
      "CPU times: user 216 ms, sys: 416 ms, total: 632 ms\n",
      "Wall time: 45.2 s\n"
     ]
    }
   ],
   "source": [
    "corpus_parser = UDFRunnerMP(PubtatorDocParser)\n",
    "doc_generator = pubtator_doc_generator('data/bioconcepts2pubtator_offsets.splits_10000/split_2')\n",
    "%time corpus_parser.run(doc_generator, parallelism=20)"
   ]
  },
  {
   "cell_type": "code",
   "execution_count": 12,
   "metadata": {
    "collapsed": false
   },
   "outputs": [
    {
     "name": "stdout",
     "output_type": "stream",
     "text": [
      "50000\n",
      "221233\n"
     ]
    }
   ],
   "source": [
    "print session.query(Document).count()\n",
    "print session.query(Sentence).count()"
   ]
  },
  {
   "cell_type": "code",
   "execution_count": 13,
   "metadata": {
    "collapsed": false
   },
   "outputs": [
    {
     "name": "stdout",
     "output_type": "stream",
     "text": [
      "20 / 20 threads done.\n",
      "\n",
      "CPU times: user 284 ms, sys: 368 ms, total: 652 ms\n",
      "Wall time: 43.8 s\n"
     ]
    }
   ],
   "source": [
    "corpus_parser = UDFRunnerMP(PubtatorDocParser)\n",
    "doc_generator = pubtator_doc_generator('data/bioconcepts2pubtator_offsets.splits_10000/split_3')\n",
    "%time corpus_parser.run(doc_generator, parallelism=20)"
   ]
  },
  {
   "cell_type": "code",
   "execution_count": 14,
   "metadata": {
    "collapsed": false
   },
   "outputs": [
    {
     "name": "stdout",
     "output_type": "stream",
     "text": [
      "60000\n",
      "248670\n"
     ]
    }
   ],
   "source": [
    "print session.query(Document).count()\n",
    "print session.query(Sentence).count()"
   ]
  },
  {
   "cell_type": "code",
   "execution_count": 15,
   "metadata": {
    "collapsed": false
   },
   "outputs": [
    {
     "name": "stdout",
     "output_type": "stream",
     "text": [
      "20 / 20 threads done.\n",
      "\n",
      "CPU times: user 512 ms, sys: 380 ms, total: 892 ms\n",
      "Wall time: 1min 12s\n"
     ]
    }
   ],
   "source": [
    "corpus_parser = UDFRunnerMP(PubtatorDocParser)\n",
    "doc_generator = pubtator_doc_generator('data/bioconcepts2pubtator_offsets.splits_10000/split_4')\n",
    "%time corpus_parser.run(doc_generator, parallelism=20)"
   ]
  },
  {
   "cell_type": "code",
   "execution_count": 16,
   "metadata": {
    "collapsed": false
   },
   "outputs": [
    {
     "name": "stdout",
     "output_type": "stream",
     "text": [
      "70000\n",
      "317344\n"
     ]
    }
   ],
   "source": [
    "print session.query(Document).count()\n",
    "print session.query(Sentence).count()"
   ]
  },
  {
   "cell_type": "code",
   "execution_count": 17,
   "metadata": {
    "collapsed": false
   },
   "outputs": [
    {
     "name": "stdout",
     "output_type": "stream",
     "text": [
      "20 / 20 threads done.\n",
      "\n",
      "CPU times: user 528 ms, sys: 384 ms, total: 912 ms\n",
      "Wall time: 1min 13s\n"
     ]
    }
   ],
   "source": [
    "corpus_parser = UDFRunnerMP(PubtatorDocParser)\n",
    "doc_generator = pubtator_doc_generator('data/bioconcepts2pubtator_offsets.splits_10000/split_5')\n",
    "%time corpus_parser.run(doc_generator, parallelism=20)"
   ]
  },
  {
   "cell_type": "code",
   "execution_count": 18,
   "metadata": {
    "collapsed": false
   },
   "outputs": [
    {
     "name": "stdout",
     "output_type": "stream",
     "text": [
      "80000\n",
      "387936\n"
     ]
    }
   ],
   "source": [
    "print session.query(Document).count()\n",
    "print session.query(Sentence).count()"
   ]
  },
  {
   "cell_type": "code",
   "execution_count": 19,
   "metadata": {
    "collapsed": false
   },
   "outputs": [
    {
     "name": "stdout",
     "output_type": "stream",
     "text": [
      "20 / 20 threads done.\n",
      "\n",
      "CPU times: user 528 ms, sys: 460 ms, total: 988 ms\n",
      "Wall time: 1min 11s\n"
     ]
    }
   ],
   "source": [
    "corpus_parser = UDFRunnerMP(PubtatorDocParser)\n",
    "doc_generator = pubtator_doc_generator('data/bioconcepts2pubtator_offsets.splits_10000/split_6')\n",
    "%time corpus_parser.run(doc_generator, parallelism=20)"
   ]
  },
  {
   "cell_type": "code",
   "execution_count": null,
   "metadata": {
    "collapsed": false
   },
   "outputs": [
    {
     "name": "stdout",
     "output_type": "stream",
     "text": [
      "90000\n",
      "458035\n"
     ]
    }
   ],
   "source": [
    "print session.query(Document).count()\n",
    "print session.query(Sentence).count()"
   ]
  },
  {
   "cell_type": "code",
   "execution_count": null,
   "metadata": {
    "collapsed": false
   },
   "outputs": [],
   "source": [
    "corpus_parser = UDFRunnerMP(PubtatorDocParser)\n",
    "doc_generator = pubtator_doc_generator('data/bioconcepts2pubtator_offsets.splits_10000/split_7')\n",
    "%time corpus_parser.run(doc_generator, parallelism=20)"
   ]
  },
  {
   "cell_type": "code",
   "execution_count": null,
   "metadata": {
    "collapsed": false
   },
   "outputs": [],
   "source": [
    "print session.query(Document).count()\n",
    "print session.query(Sentence).count()"
   ]
  },
  {
   "cell_type": "code",
   "execution_count": 5,
   "metadata": {
    "collapsed": false
   },
   "outputs": [
    {
     "name": "stdout",
     "output_type": "stream",
     "text": [
      "20 / 20 threads done.\n",
      "\n",
      "CPU times: user 552 ms, sys: 380 ms, total: 932 ms\n",
      "Wall time: 1min 12s\n"
     ]
    }
   ],
   "source": [
    "corpus_parser = UDFRunnerMP(PubtatorDocParser)\n",
    "doc_generator = pubtator_doc_generator('data/bioconcepts2pubtator_offsets.splits_10000/split_8')\n",
    "%time corpus_parser.run(doc_generator, parallelism=20)"
   ]
  },
  {
   "cell_type": "code",
   "execution_count": 6,
   "metadata": {
    "collapsed": false
   },
   "outputs": [
    {
     "name": "stdout",
     "output_type": "stream",
     "text": [
      "20000\n",
      "95115\n"
     ]
    }
   ],
   "source": [
    "print session.query(Document).count()\n",
    "print session.query(Sentence).count()"
   ]
  },
  {
   "cell_type": "code",
   "execution_count": 7,
   "metadata": {
    "collapsed": false
   },
   "outputs": [
    {
     "name": "stdout",
     "output_type": "stream",
     "text": [
      "20 / 20 threads done.\n",
      "\n",
      "CPU times: user 472 ms, sys: 404 ms, total: 876 ms\n",
      "Wall time: 1min 12s\n"
     ]
    }
   ],
   "source": [
    "corpus_parser = UDFRunnerMP(PubtatorDocParser)\n",
    "doc_generator = pubtator_doc_generator('data/bioconcepts2pubtator_offsets.splits_10000/split_9')\n",
    "%time corpus_parser.run(doc_generator, parallelism=20)"
   ]
  },
  {
   "cell_type": "code",
   "execution_count": 8,
   "metadata": {
    "collapsed": false
   },
   "outputs": [
    {
     "name": "stdout",
     "output_type": "stream",
     "text": [
      "30000\n",
      "164898\n"
     ]
    }
   ],
   "source": [
    "print session.query(Document).count()\n",
    "print session.query(Sentence).count()"
   ]
  }
 ],
 "metadata": {
  "kernelspec": {
   "display_name": "Python 2",
   "language": "python",
   "name": "python2"
  },
  "language_info": {
   "codemirror_mode": {
    "name": "ipython",
    "version": 2
   },
   "file_extension": ".py",
   "mimetype": "text/x-python",
   "name": "python",
   "nbconvert_exporter": "python",
   "pygments_lexer": "ipython2",
   "version": "2.7.6"
  }
 },
 "nbformat": 4,
 "nbformat_minor": 1
}
