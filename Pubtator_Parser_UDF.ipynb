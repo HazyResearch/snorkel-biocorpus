{
 "cells": [
  {
   "cell_type": "code",
   "execution_count": 1,
   "metadata": {
    "collapsed": false
   },
   "outputs": [],
   "source": [
    "%load_ext autoreload\n",
    "%autoreload 2\n",
    "%load_ext line_profiler\n",
    "\n",
    "import os\n",
    "os.environ['SNORKELDB'] = 'postgres:///snorkel-biocorpus-split'\n",
    "\n",
    "from snorkel import SnorkelSession\n",
    "session = SnorkelSession()"
   ]
  },
  {
   "cell_type": "code",
   "execution_count": 2,
   "metadata": {
    "collapsed": true
   },
   "outputs": [],
   "source": [
    "from pubtator_parsers import PubtatorDocParser, pubtator_doc_generator"
   ]
  },
  {
   "cell_type": "markdown",
   "metadata": {},
   "source": [
    "## Running single-threaded"
   ]
  },
  {
   "cell_type": "code",
   "execution_count": 4,
   "metadata": {
    "collapsed": false
   },
   "outputs": [
    {
     "name": "stdout",
     "output_type": "stream",
     "text": [
      "Skipping cross-sentence mention Australian-born women. II. Determinants of satisfaction\n",
      "\n",
      "Skipping cross-sentence mention Mycoplasma agalactiae subsp. bovis\n",
      "\n",
      "Skipping cross-sentence mention M. agalactiae subsp. bovis\n",
      "\n",
      "Skipping cross-sentence mention M. agalactiae subsp. bovis\n",
      "\n",
      "Skipping cross-sentence mention M. agalactiae subsp. bovis\n",
      "\n",
      "Skipping cross-sentence mention M. agalactiae subsp. bovis\n",
      "\n",
      "Skipping cross-sentence mention poly(inosinic acid).poly(cytidylic acid)\n",
      "\n",
      "Skipping cross-sentence mention poly(inosinic acid).poly(cytidylic acid)\n",
      "\n",
      "[========================================] 100%\n",
      "\n",
      "CPU times: user 45.6 s, sys: 3.82 s, total: 49.4 s\n",
      "Wall time: 5min 53s\n"
     ]
    }
   ],
   "source": [
    "from snorkel.udf import UDFRunner\n",
    "corpus_parser = UDFRunner(PubtatorDocParser)\n",
    "doc_generator = pubtator_doc_generator('data/bioconcepts2pubtator_offsets.split_5000_0')\n",
    "%time corpus_parser.run(doc_generator, max_n=5000)"
   ]
  },
  {
   "cell_type": "code",
   "execution_count": null,
   "metadata": {
    "collapsed": false
   },
   "outputs": [],
   "source": [
    "doc_generator = pubtator_doc_generator('data/bioconcepts2pubtator_offsets.split_5000_1')\n",
    "%time corpus_parser.run(doc_generator, max_n=5000)"
   ]
  },
  {
   "cell_type": "code",
   "execution_count": null,
   "metadata": {
    "collapsed": false
   },
   "outputs": [],
   "source": [
    "doc_generator = pubtator_doc_generator('data/bioconcepts2pubtator_offsets.split_5000_2')\n",
    "%time corpus_parser.run(doc_generator, max_n=5000)"
   ]
  },
  {
   "cell_type": "code",
   "execution_count": null,
   "metadata": {
    "collapsed": false
   },
   "outputs": [],
   "source": [
    "doc_generator = pubtator_doc_generator('data/bioconcepts2pubtator_offsets.split_5000_3')\n",
    "%time corpus_parser.run(doc_generator, max_n=5000)"
   ]
  },
  {
   "cell_type": "code",
   "execution_count": null,
   "metadata": {
    "collapsed": false
   },
   "outputs": [],
   "source": [
    "doc_generator = pubtator_doc_generator('data/bioconcepts2pubtator_offsets.split_5000_4')\n",
    "%time corpus_parser.run(doc_generator, max_n=5000)"
   ]
  },
  {
   "cell_type": "code",
   "execution_count": null,
   "metadata": {
    "collapsed": false
   },
   "outputs": [],
   "source": [
    "doc_generator = pubtator_doc_generator('data/bioconcepts2pubtator_offsets.split_5000_5')\n",
    "%time corpus_parser.run(doc_generator, max_n=5000)"
   ]
  },
  {
   "cell_type": "code",
   "execution_count": null,
   "metadata": {
    "collapsed": false
   },
   "outputs": [],
   "source": [
    "doc_generator = pubtator_doc_generator('data/bioconcepts2pubtator_offsets.split_5000_6')\n",
    "%time corpus_parser.run(doc_generator, max_n=5000)"
   ]
  },
  {
   "cell_type": "code",
   "execution_count": null,
   "metadata": {
    "collapsed": false
   },
   "outputs": [],
   "source": [
    "doc_generator = pubtator_doc_generator('data/bioconcepts2pubtator_offsets.split_5000_7')\n",
    "%time corpus_parser.run(doc_generator, max_n=5000)"
   ]
  },
  {
   "cell_type": "code",
   "execution_count": null,
   "metadata": {
    "collapsed": false
   },
   "outputs": [],
   "source": [
    "doc_generator = pubtator_doc_generator('data/bioconcepts2pubtator_offsets.split_5000_8')\n",
    "%time corpus_parser.run(doc_generator, max_n=5000)"
   ]
  },
  {
   "cell_type": "code",
   "execution_count": null,
   "metadata": {
    "collapsed": false
   },
   "outputs": [],
   "source": [
    "doc_generator = pubtator_doc_generator('data/bioconcepts2pubtator_offsets.split_5000_9')\n",
    "%time corpus_parser.run(doc_generator, max_n=5000)"
   ]
  },
  {
   "cell_type": "code",
   "execution_count": null,
   "metadata": {
    "collapsed": true
   },
   "outputs": [],
   "source": [
    "session.commit()"
   ]
  },
  {
   "cell_type": "markdown",
   "metadata": {},
   "source": [
    "# Running in parallel"
   ]
  },
  {
   "cell_type": "code",
   "execution_count": null,
   "metadata": {
    "collapsed": false
   },
   "outputs": [],
   "source": [
    "from snorkel.udf import UDFRunnerMP\n",
    "\n",
    "corpus_parser = UDFRunnerMP(PubtatorDocParser)\n",
    "%time corpus_parser.run(doc_generator, parallelism=20)"
   ]
  }
 ],
 "metadata": {
  "kernelspec": {
   "display_name": "Python 2",
   "language": "python",
   "name": "python2"
  },
  "language_info": {
   "codemirror_mode": {
    "name": "ipython",
    "version": 2
   },
   "file_extension": ".py",
   "mimetype": "text/x-python",
   "name": "python",
   "nbconvert_exporter": "python",
   "pygments_lexer": "ipython2",
   "version": "2.7.6"
  }
 },
 "nbformat": 4,
 "nbformat_minor": 1
}
