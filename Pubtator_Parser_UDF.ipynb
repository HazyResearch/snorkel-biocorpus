{
 "cells": [
  {
   "cell_type": "code",
   "execution_count": 1,
   "metadata": {
    "collapsed": false
   },
   "outputs": [],
   "source": [
    "%load_ext autoreload\n",
    "%autoreload 2\n",
    "%load_ext line_profiler\n",
    "\n",
    "import os\n",
    "#os.environ['SNORKELDB'] = 'postgres:///snorkel-biocorpus-sample'\n",
    "\n",
    "from snorkel import SnorkelSession\n",
    "session = SnorkelSession()"
   ]
  },
  {
   "cell_type": "code",
   "execution_count": 2,
   "metadata": {
    "collapsed": false
   },
   "outputs": [
    {
     "data": {
      "text/plain": [
       "Corpus (PubTator Annotated)"
      ]
     },
     "execution_count": 2,
     "metadata": {},
     "output_type": "execute_result"
    }
   ],
   "source": [
    "from snorkel.models import Corpus\n",
    "corpus = Corpus(name='PubTator Annotated')\n",
    "corpus"
   ]
  },
  {
   "cell_type": "code",
   "execution_count": 3,
   "metadata": {
    "collapsed": false
   },
   "outputs": [],
   "source": [
    "from pubtator_parsers import PubtatorDocParser, pubtator_doc_generator\n",
    "from snorkel.udf import UDFRunner\n",
    "\n",
    "corpus_parser = UDFRunner(session, PubtatorDocParser())"
   ]
  },
  {
   "cell_type": "code",
   "execution_count": 5,
   "metadata": {
    "collapsed": false
   },
   "outputs": [
    {
     "name": "stdout",
     "output_type": "stream",
     "text": [
      "[=                                       ] 1%Warning: Non-standard split: mention 'ethanesulfonic acid', split on 'M' in word 'Methanesulfonic'\n",
      "[==                                      ] 3%Warning: Non-standard split: mention 'Cys', split on '1' in word 'Cys169'\n",
      "[=====                                   ] 11%Warning: Non-standard split: mention 'Fe', split on 'S' in word 'FeSOD'\n",
      "[=======                                 ] 15%Warning: Non-standard split: mention 'AtHAL3', split on 'a' in word 'AtHAL3a'\n",
      "Warning: Non-standard split: mention 'AtHAL3', split on 'a' in word 'AtHAL3a'\n",
      "Warning: Non-standard split: mention 'Cys', split on '1' in word 'Cys175'\n",
      "[==========                              ] 24%Warning: Non-standard split: mention 'pNoc', split on '6' in word 'pNoc614'\n",
      "[===========                             ] 26%Warning: Non-standard split: mention 'dUTP', split on 'a' in word 'dUTPases'\n",
      "[============                            ] 28%Warning: Non-standard split: mention 'Mg', split on 'A' in word 'MgATP'\n",
      "[=============                           ] 30%Warning: Non-standard split: mention 'H(2)O', split on '4' in word '4H'\n",
      "[=============                           ] 31%Warning: Non-standard split: mention 'Asp', split on '2' in word 'Asp233'\n",
      "Warning: Non-standard split: mention 'Asp', split on '2' in word 'Asp241'\n",
      "[=============                           ] 32%Warning: Non-standard split: mention 'mum', split on '0' in word '60mum'\n",
      "[================                        ] 39%Warning: Non-standard split: mention 'Asp', split on '1' in word 'Asp166'\n",
      "Warning: Non-standard split: mention 'Asp', split on '1' in word 'Asp166'\n",
      "Warning: Non-standard split: mention 'P. aeruginosa PAO1', split on 'c' in word 'PAO1c'\n",
      "[=================                       ] 40%Warning: Non-standard split: mention 'Arg', split on '2' in word 'Arg220'\n",
      "[==================                      ] 43%Warning: Non-standard split: mention 'UDP-d-GlcNAc', split on '3' in word 'UDP-d-GlcNAc3NAcA'\n",
      "[==================                      ] 44%Warning: Non-standard split: mention 'Glu', split on '5' in word 'Glu54'\n",
      "[=========================               ] 61%Warning: Non-standard split: mention 'DTG602', split on 'p' in word 'pDTG602'\n",
      "Warning: Non-standard split: mention 'DTG603', split on 'p' in word 'pDTG603'\n",
      "[============================            ] 68%Warning: Non-standard split: mention 'NRRL B-2309', split on 'M' in word 'B-2309MC'\n",
      "[==============================          ] 74%Warning: Non-standard split: mention 'Mg', split on 'A' in word 'MgATP2'\n",
      "Warning: Non-standard split: mention 'Mg', split on 'A' in word 'MgATP2'\n",
      "Warning: Non-standard split: mention 'Mg', split on 'A' in word 'MgATP2'\n",
      "Warning: Non-standard split: mention 'Mg', split on 'A' in word 'MgATP2'\n",
      "Warning: Non-standard split: mention 'Mg', split on 'A' in word 'MgATP2'\n",
      "[================================        ] 79%Warning: Non-standard split: mention 'Ci', split on 'o' in word 'microCi'\n",
      "[==================================      ] 83%Warning: Non-standard split: mention 'DTG141', split on 'p' in word 'pDTG141'\n",
      "[===================================     ] 85%Warning: Non-standard split: mention 'Arg', split on '7' in word 'Arg72'\n",
      "Warning: Non-standard split: mention 'Asn', split on '7' in word 'Asn79'\n",
      "[========================================] 100%\n",
      "\n",
      "CPU times: user 38.8 s, sys: 1.47 s, total: 40.3 s\n",
      "Wall time: 7min 12s\n"
     ]
    }
   ],
   "source": [
    "%time corpus_parser.run(\\\n",
    "    pubtator_doc_generator('pubtator_api/output/pubtator_data_fda_chem'), y_set=corpus, max_n=2000)"
   ]
  },
  {
   "cell_type": "code",
   "execution_count": 6,
   "metadata": {
    "collapsed": false
   },
   "outputs": [
    {
     "data": {
      "text/plain": [
       "Corpus (PubTator Annotated)"
      ]
     },
     "execution_count": 6,
     "metadata": {},
     "output_type": "execute_result"
    }
   ],
   "source": [
    "corpus"
   ]
  },
  {
   "cell_type": "code",
   "execution_count": 7,
   "metadata": {
    "collapsed": false
   },
   "outputs": [
    {
     "data": {
      "text/plain": [
       "1799"
      ]
     },
     "execution_count": 7,
     "metadata": {},
     "output_type": "execute_result"
    }
   ],
   "source": [
    "len(corpus)"
   ]
  },
  {
   "cell_type": "code",
   "execution_count": 8,
   "metadata": {
    "collapsed": false
   },
   "outputs": [
    {
     "data": {
      "text/plain": [
       "15666"
      ]
     },
     "execution_count": 8,
     "metadata": {},
     "output_type": "execute_result"
    }
   ],
   "source": [
    "sents = []\n",
    "for doc in corpus:\n",
    "    for sent in doc.sentences:\n",
    "        sents.append(sent)\n",
    "len(sents)"
   ]
  }
 ],
 "metadata": {
  "kernelspec": {
   "display_name": "Python 2",
   "language": "python",
   "name": "python2"
  },
  "language_info": {
   "codemirror_mode": {
    "name": "ipython",
    "version": 2
   },
   "file_extension": ".py",
   "mimetype": "text/x-python",
   "name": "python",
   "nbconvert_exporter": "python",
   "pygments_lexer": "ipython2",
   "version": "2.7.6"
  }
 },
 "nbformat": 4,
 "nbformat_minor": 1
}
