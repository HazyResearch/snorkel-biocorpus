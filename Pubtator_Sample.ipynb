{
 "cells": [
  {
   "cell_type": "code",
   "execution_count": 16,
   "metadata": {
    "collapsed": false
   },
   "outputs": [
    {
     "name": "stdout",
     "output_type": "stream",
     "text": [
      "The autoreload extension is already loaded. To reload it, use:\n",
      "  %reload_ext autoreload\n"
     ]
    }
   ],
   "source": [
    "%load_ext autoreload\n",
    "%autoreload 2\n",
    "\n",
    "import os\n",
    "os.environ['SNORKELDB'] = 'postgres:///snorkel-biocorpus'\n",
    "\n",
    "from snorkel import SnorkelSession\n",
    "session = SnorkelSession()"
   ]
  },
  {
   "cell_type": "code",
   "execution_count": 52,
   "metadata": {
    "collapsed": false
   },
   "outputs": [
    {
     "name": "stdout",
     "output_type": "stream",
     "text": [
      "27037803::sentence:0:67\n",
      "\tinfant  :  infant\n",
      "27037803::sentence:68:221\n",
      "\tcongenital anomaly  :  congenital anomaly\n",
      "27037803::sentence:222:320\n",
      "\trespiratory distress  :  respiratory distress\n",
      "27037803::sentence:321:469\n",
      "\tneck  :  neck\n",
      "\tgirl  :  girl\n",
      "27037803::sentence:470:559\n",
      "\tneck  :  neck\n",
      "27037803::sentence:560:669\n",
      "\ttrachea  :  trachea\n",
      "27037803::sentence:670:748\n",
      "27037803::sentence:749:830\n",
      "\tneck  :  neck\n",
      "27037803::sentence:831:909\n",
      "27037803::sentence:910:981\n",
      "27037803::sentence:982:1192\n",
      "\trare disease  :  rare disease\n",
      "27083247::sentence:0:128\n",
      "\tPolytetrafluoroethylene  :  Polytetrafluoroethylene\n",
      "\tCongenital Heart Disease  :  Congenital Heart Disease\n",
      "\tPatients  :  Patients\n",
      "27083247::sentence:129:216\n",
      "27083247::sentence:217:359\n",
      "\tpolytetrafluoroethylene  :  polytetrafluoroethylene\n",
      "\tPTFE  :  PTFE\n",
      "\tbicuspid pulmonary valve replacement  :  bicuspid pulmonary valve replacement\n",
      "27083247::sentence:360:531\n",
      "\tPTFE  :  PTFE\n",
      "\tbicuspid pulmonary valve replacement  :  bicuspid pulmonary valve replacement\n",
      "\tpatients  :  patients\n",
      "27083247::sentence:532:638\n",
      "\tPTFE  :  PTFE\n",
      "27083247::sentence:639:852\n",
      "\tStructural valve deterioration  :  Structural valve deterioration\n",
      "\tSVD  :  SVD\n",
      "\tpulmonary regurgitation  :  pulmonary regurgitation\n",
      "27083247::sentence:853:954\n",
      "\tpulmonary valve replacement  :  pulmonary valve replacement\n",
      "27083247::sentence:955:1136\n",
      "\tpulmonary atresia  :  pulmonary atresia\n",
      "\tventricular septal defect  :  ventricular septal defect\n",
      "\tdouble-outlet  :  double-outlet\n",
      "27083247::sentence:1137:1189\n",
      "27083247::sentence:1190:1283\n",
      "\tventricular dysfunction  :  ventricular dysfunction\n",
      "\tinfective endocarditis  :  infective endocarditis\n",
      "27083247::sentence:1284:1364\n",
      "\tpulmonary regurgitation  :  pulmonary regurgitation\n",
      "\tstenosis  :  stenosis\n",
      "\tpatient  :  patient\n",
      "27083247::sentence:1365:1475\n",
      "27083247::sentence:1476:1573\n",
      "\tPTFE  :  PTFE\n",
      "\tdeath  :  death\n",
      "\tinfective endocarditis  :  infective endocarditis\n",
      "27083247::sentence:1574:1622\n",
      "27083247::sentence:1623:1716\n",
      "\tPTFE  :  PTFE\n",
      "\tinfective endocarditis  :  infective endocarditis\n",
      "\tpatient  :  patient\n",
      "27083247::sentence:1717:1787\n",
      "27083247::sentence:1788:1894\n",
      "\tSVD  :  SVD\n",
      "\tpatients  :  patients\n",
      "27083247::sentence:1895:2008\n",
      "\tSVD  :  SVD\n",
      "27083247::sentence:2009:2110\n",
      "\tPTFE  :  PTFE\n",
      "\tbicuspid pulmonary valve replacement  :  bicuspid pulmonary valve replacement\n",
      "27083247::sentence:2111:2201\n",
      "27067309::sentence:0:122\n",
      "\tEpilepsy  :  Epilepsy\n",
      "\tHuman  :  Human\n",
      "27067309::sentence:123:253\n",
      "\tepilepsy  :  epilepsy\n",
      "27067309::sentence:254:421\n",
      "\tdrug-refractory epilepsy  :  drug-refractory epilepsy\n",
      "\tepilepsy  :  epilepsy\n",
      "\tpatients  :  patients\n",
      "\thuman  :  human\n",
      "27067309::sentence:422:578\n",
      "\tmethylated-cytosine  :  methylated-cytosine\n",
      "\tepileptic  :  epileptic\n",
      "\tpatients  :  patients\n",
      "27067309::sentence:579:753\n",
      "\tbisulfite  :  bisulfite\n",
      "27067309::sentence:754:854\n",
      "\tepileptic  :  epileptic\n",
      "\tpatients  :  patients\n",
      "27067309::sentence:855:989\n",
      "\tTUBB2B  :  TUBB2B\n",
      "\tATPGD1  :  ATPGD1\n",
      "\tHTR6  :  HTR6\n",
      "27067309::sentence:990:1152\n",
      "\tepileptic  :  epileptic\n",
      "\tTUBB2B  :  TUBB2B\n",
      "\tATPGD1  :  ATPGD1\n",
      "\tHTR6  :  HTR6\n",
      "27067309::sentence:1153:1262\n",
      "\tepilepsy  :  epilepsy\n",
      "\thuman  :  human\n",
      "27062253::sentence:0:67\n",
      "27062253::sentence:68:145\n",
      "27062253::sentence:146:238\n",
      "27062253::sentence:239:374\n",
      "27062253::sentence:375:486\n",
      "27062253::sentence:487:638\n",
      "27062253::sentence:639:761\n",
      "27062253::sentence:762:801\n",
      "27062253::sentence:802:822\n",
      "27117697::sentence:0:101\n",
      "\thepatocellular carcinoma  :  hepatocellular carcinoma\n",
      "27118996::sentence:0:160\n",
      "\tisoniazid  :  isoniazid\n",
      "\t2-phenyl indole  :  2-phenyl indole\n",
      "\tbarbituric acid  :  barbituric acid\n",
      "\tthiobarbituric acid  :  thiobarbituric acid\n",
      "\tthiosemicarbazide  :  thiosemicarbazide\n",
      "27118996::sentence:161:347\n"
     ]
    },
    {
     "ename": "NameError",
     "evalue": "global name 'abs_offsets' is not defined",
     "output_type": "error",
     "traceback": [
      "\u001b[0;31m---------------------------------------------------------------------------\u001b[0m",
      "\u001b[0;31mNameError\u001b[0m                                 Traceback (most recent call last)",
      "\u001b[0;32m<ipython-input-52-fc65346c100c>\u001b[0m in \u001b[0;36m<module>\u001b[0;34m()\u001b[0m\n\u001b[1;32m      2\u001b[0m \u001b[0;34m\u001b[0m\u001b[0m\n\u001b[1;32m      3\u001b[0m \u001b[0mcorpus_parser\u001b[0m \u001b[0;34m=\u001b[0m \u001b[0mPubtatorCorpusParser\u001b[0m\u001b[0;34m(\u001b[0m\u001b[0;34m'bioconcepts2pubtator_offsets.sample'\u001b[0m\u001b[0;34m)\u001b[0m\u001b[0;34m\u001b[0m\u001b[0m\n\u001b[0;32m----> 4\u001b[0;31m \u001b[0mget_ipython\u001b[0m\u001b[0;34m(\u001b[0m\u001b[0;34m)\u001b[0m\u001b[0;34m.\u001b[0m\u001b[0mmagic\u001b[0m\u001b[0;34m(\u001b[0m\u001b[0;34mu\"time corpus  = corpus_parser.parse_corpus(session, 'PubTator Sample')\"\u001b[0m\u001b[0;34m)\u001b[0m\u001b[0;34m\u001b[0m\u001b[0m\n\u001b[0m",
      "\u001b[0;32m/usr/local/lib/python2.7/dist-packages/IPython/core/interactiveshell.pyc\u001b[0m in \u001b[0;36mmagic\u001b[0;34m(self, arg_s)\u001b[0m\n\u001b[1;32m   2156\u001b[0m         \u001b[0mmagic_name\u001b[0m\u001b[0;34m,\u001b[0m \u001b[0m_\u001b[0m\u001b[0;34m,\u001b[0m \u001b[0mmagic_arg_s\u001b[0m \u001b[0;34m=\u001b[0m \u001b[0marg_s\u001b[0m\u001b[0;34m.\u001b[0m\u001b[0mpartition\u001b[0m\u001b[0;34m(\u001b[0m\u001b[0;34m' '\u001b[0m\u001b[0;34m)\u001b[0m\u001b[0;34m\u001b[0m\u001b[0m\n\u001b[1;32m   2157\u001b[0m         \u001b[0mmagic_name\u001b[0m \u001b[0;34m=\u001b[0m \u001b[0mmagic_name\u001b[0m\u001b[0;34m.\u001b[0m\u001b[0mlstrip\u001b[0m\u001b[0;34m(\u001b[0m\u001b[0mprefilter\u001b[0m\u001b[0;34m.\u001b[0m\u001b[0mESC_MAGIC\u001b[0m\u001b[0;34m)\u001b[0m\u001b[0;34m\u001b[0m\u001b[0m\n\u001b[0;32m-> 2158\u001b[0;31m         \u001b[0;32mreturn\u001b[0m \u001b[0mself\u001b[0m\u001b[0;34m.\u001b[0m\u001b[0mrun_line_magic\u001b[0m\u001b[0;34m(\u001b[0m\u001b[0mmagic_name\u001b[0m\u001b[0;34m,\u001b[0m \u001b[0mmagic_arg_s\u001b[0m\u001b[0;34m)\u001b[0m\u001b[0;34m\u001b[0m\u001b[0m\n\u001b[0m\u001b[1;32m   2159\u001b[0m \u001b[0;34m\u001b[0m\u001b[0m\n\u001b[1;32m   2160\u001b[0m     \u001b[0;31m#-------------------------------------------------------------------------\u001b[0m\u001b[0;34m\u001b[0m\u001b[0;34m\u001b[0m\u001b[0m\n",
      "\u001b[0;32m/usr/local/lib/python2.7/dist-packages/IPython/core/interactiveshell.pyc\u001b[0m in \u001b[0;36mrun_line_magic\u001b[0;34m(self, magic_name, line)\u001b[0m\n\u001b[1;32m   2077\u001b[0m                 \u001b[0mkwargs\u001b[0m\u001b[0;34m[\u001b[0m\u001b[0;34m'local_ns'\u001b[0m\u001b[0;34m]\u001b[0m \u001b[0;34m=\u001b[0m \u001b[0msys\u001b[0m\u001b[0;34m.\u001b[0m\u001b[0m_getframe\u001b[0m\u001b[0;34m(\u001b[0m\u001b[0mstack_depth\u001b[0m\u001b[0;34m)\u001b[0m\u001b[0;34m.\u001b[0m\u001b[0mf_locals\u001b[0m\u001b[0;34m\u001b[0m\u001b[0m\n\u001b[1;32m   2078\u001b[0m             \u001b[0;32mwith\u001b[0m \u001b[0mself\u001b[0m\u001b[0;34m.\u001b[0m\u001b[0mbuiltin_trap\u001b[0m\u001b[0;34m:\u001b[0m\u001b[0;34m\u001b[0m\u001b[0m\n\u001b[0;32m-> 2079\u001b[0;31m                 \u001b[0mresult\u001b[0m \u001b[0;34m=\u001b[0m \u001b[0mfn\u001b[0m\u001b[0;34m(\u001b[0m\u001b[0;34m*\u001b[0m\u001b[0margs\u001b[0m\u001b[0;34m,\u001b[0m\u001b[0;34m**\u001b[0m\u001b[0mkwargs\u001b[0m\u001b[0;34m)\u001b[0m\u001b[0;34m\u001b[0m\u001b[0m\n\u001b[0m\u001b[1;32m   2080\u001b[0m             \u001b[0;32mreturn\u001b[0m \u001b[0mresult\u001b[0m\u001b[0;34m\u001b[0m\u001b[0m\n\u001b[1;32m   2081\u001b[0m \u001b[0;34m\u001b[0m\u001b[0m\n",
      "\u001b[0;32m<decorator-gen-59>\u001b[0m in \u001b[0;36mtime\u001b[0;34m(self, line, cell, local_ns)\u001b[0m\n",
      "\u001b[0;32m/usr/local/lib/python2.7/dist-packages/IPython/core/magic.pyc\u001b[0m in \u001b[0;36m<lambda>\u001b[0;34m(f, *a, **k)\u001b[0m\n\u001b[1;32m    186\u001b[0m     \u001b[0;31m# but it's overkill for just that one bit of state.\u001b[0m\u001b[0;34m\u001b[0m\u001b[0;34m\u001b[0m\u001b[0m\n\u001b[1;32m    187\u001b[0m     \u001b[0;32mdef\u001b[0m \u001b[0mmagic_deco\u001b[0m\u001b[0;34m(\u001b[0m\u001b[0marg\u001b[0m\u001b[0;34m)\u001b[0m\u001b[0;34m:\u001b[0m\u001b[0;34m\u001b[0m\u001b[0m\n\u001b[0;32m--> 188\u001b[0;31m         \u001b[0mcall\u001b[0m \u001b[0;34m=\u001b[0m \u001b[0;32mlambda\u001b[0m \u001b[0mf\u001b[0m\u001b[0;34m,\u001b[0m \u001b[0;34m*\u001b[0m\u001b[0ma\u001b[0m\u001b[0;34m,\u001b[0m \u001b[0;34m**\u001b[0m\u001b[0mk\u001b[0m\u001b[0;34m:\u001b[0m \u001b[0mf\u001b[0m\u001b[0;34m(\u001b[0m\u001b[0;34m*\u001b[0m\u001b[0ma\u001b[0m\u001b[0;34m,\u001b[0m \u001b[0;34m**\u001b[0m\u001b[0mk\u001b[0m\u001b[0;34m)\u001b[0m\u001b[0;34m\u001b[0m\u001b[0m\n\u001b[0m\u001b[1;32m    189\u001b[0m \u001b[0;34m\u001b[0m\u001b[0m\n\u001b[1;32m    190\u001b[0m         \u001b[0;32mif\u001b[0m \u001b[0mcallable\u001b[0m\u001b[0;34m(\u001b[0m\u001b[0marg\u001b[0m\u001b[0;34m)\u001b[0m\u001b[0;34m:\u001b[0m\u001b[0;34m\u001b[0m\u001b[0m\n",
      "\u001b[0;32m/usr/local/lib/python2.7/dist-packages/IPython/core/magics/execution.pyc\u001b[0m in \u001b[0;36mtime\u001b[0;34m(self, line, cell, local_ns)\u001b[0m\n\u001b[1;32m   1178\u001b[0m         \u001b[0;32melse\u001b[0m\u001b[0;34m:\u001b[0m\u001b[0;34m\u001b[0m\u001b[0m\n\u001b[1;32m   1179\u001b[0m             \u001b[0mst\u001b[0m \u001b[0;34m=\u001b[0m \u001b[0mclock2\u001b[0m\u001b[0;34m(\u001b[0m\u001b[0;34m)\u001b[0m\u001b[0;34m\u001b[0m\u001b[0m\n\u001b[0;32m-> 1180\u001b[0;31m             \u001b[0;32mexec\u001b[0m\u001b[0;34m(\u001b[0m\u001b[0mcode\u001b[0m\u001b[0;34m,\u001b[0m \u001b[0mglob\u001b[0m\u001b[0;34m,\u001b[0m \u001b[0mlocal_ns\u001b[0m\u001b[0;34m)\u001b[0m\u001b[0;34m\u001b[0m\u001b[0m\n\u001b[0m\u001b[1;32m   1181\u001b[0m             \u001b[0mend\u001b[0m \u001b[0;34m=\u001b[0m \u001b[0mclock2\u001b[0m\u001b[0;34m(\u001b[0m\u001b[0;34m)\u001b[0m\u001b[0;34m\u001b[0m\u001b[0m\n\u001b[1;32m   1182\u001b[0m             \u001b[0mout\u001b[0m \u001b[0;34m=\u001b[0m \u001b[0mNone\u001b[0m\u001b[0;34m\u001b[0m\u001b[0m\n",
      "\u001b[0;32m<timed exec>\u001b[0m in \u001b[0;36m<module>\u001b[0;34m()\u001b[0m\n",
      "\u001b[0;32m/lfs/raiders7/hdd/ajratner/snorkel-biocorpus/utils.py\u001b[0m in \u001b[0;36mparse_corpus\u001b[0;34m(self, session, name)\u001b[0m\n\u001b[1;32m    152\u001b[0m                     \u001b[0mdoc\u001b[0m \u001b[0;34m=\u001b[0m \u001b[0mDocument\u001b[0m\u001b[0;34m(\u001b[0m\u001b[0mname\u001b[0m\u001b[0;34m=\u001b[0m\u001b[0mdoc_id\u001b[0m\u001b[0;34m,\u001b[0m \u001b[0mstable_id\u001b[0m\u001b[0;34m=\u001b[0m\u001b[0mstable_id\u001b[0m\u001b[0;34m)\u001b[0m\u001b[0;34m\u001b[0m\u001b[0m\n\u001b[1;32m    153\u001b[0m                     \u001b[0mcorpus\u001b[0m\u001b[0;34m.\u001b[0m\u001b[0mappend\u001b[0m\u001b[0;34m(\u001b[0m\u001b[0mdoc\u001b[0m\u001b[0;34m)\u001b[0m\u001b[0;34m\u001b[0m\u001b[0m\n\u001b[0;32m--> 154\u001b[0;31m                     \u001b[0;32mfor\u001b[0m \u001b[0m_\u001b[0m \u001b[0;32min\u001b[0m \u001b[0mself\u001b[0m\u001b[0;34m.\u001b[0m\u001b[0msent_parser\u001b[0m\u001b[0;34m.\u001b[0m\u001b[0mparse\u001b[0m\u001b[0;34m(\u001b[0m\u001b[0mdoc\u001b[0m\u001b[0;34m,\u001b[0m \u001b[0mtext\u001b[0m\u001b[0;34m,\u001b[0m \u001b[0mannos\u001b[0m\u001b[0;34m)\u001b[0m\u001b[0;34m:\u001b[0m\u001b[0;34m\u001b[0m\u001b[0m\n\u001b[0m\u001b[1;32m    155\u001b[0m                         \u001b[0;32mpass\u001b[0m\u001b[0;34m\u001b[0m\u001b[0m\n\u001b[1;32m    156\u001b[0m                     \u001b[0ml\u001b[0m \u001b[0;34m=\u001b[0m \u001b[0;34m-\u001b[0m\u001b[0;36m1\u001b[0m\u001b[0;34m\u001b[0m\u001b[0m\n",
      "\u001b[0;32m/lfs/raiders7/hdd/ajratner/snorkel-biocorpus/utils.py\u001b[0m in \u001b[0;36mparse\u001b[0;34m(self, doc, text, annotations)\u001b[0m\n\u001b[1;32m    100\u001b[0m                         \u001b[0;31m# Truncated ending\u001b[0m\u001b[0;34m\u001b[0m\u001b[0;34m\u001b[0m\u001b[0m\n\u001b[1;32m    101\u001b[0m                         \u001b[0;32melse\u001b[0m\u001b[0;34m:\u001b[0m\u001b[0;34m\u001b[0m\u001b[0m\n\u001b[0;32m--> 102\u001b[0;31m                             \u001b[0mself\u001b[0m\u001b[0;34m.\u001b[0m\u001b[0m_split_token\u001b[0m\u001b[0;34m(\u001b[0m\u001b[0msentence_parts\u001b[0m\u001b[0;34m,\u001b[0m \u001b[0mwe\u001b[0m\u001b[0;34m-\u001b[0m\u001b[0;36m1\u001b[0m\u001b[0;34m,\u001b[0m \u001b[0mei\u001b[0m\u001b[0;34m,\u001b[0m \u001b[0mmention\u001b[0m\u001b[0;34m,\u001b[0m \u001b[0mwords\u001b[0m\u001b[0;34m)\u001b[0m\u001b[0;34m\u001b[0m\u001b[0m\n\u001b[0m\u001b[1;32m    103\u001b[0m \u001b[0;34m\u001b[0m\u001b[0m\n\u001b[1;32m    104\u001b[0m                             \u001b[0;31m# Register and confirm match\u001b[0m\u001b[0;34m\u001b[0m\u001b[0;34m\u001b[0m\u001b[0m\n",
      "\u001b[0;32m/lfs/raiders7/hdd/ajratner/snorkel-biocorpus/utils.py\u001b[0m in \u001b[0;36m_split_token\u001b[0;34m(self, sentence_parts, tok_idx, char_idx, mention, toks)\u001b[0m\n\u001b[1;32m     27\u001b[0m         \"\"\"\n\u001b[1;32m     28\u001b[0m         \u001b[0msplit_word\u001b[0m \u001b[0;34m=\u001b[0m \u001b[0msentence_parts\u001b[0m\u001b[0;34m[\u001b[0m\u001b[0;34m'words'\u001b[0m\u001b[0;34m]\u001b[0m\u001b[0;34m[\u001b[0m\u001b[0mtok_idx\u001b[0m\u001b[0;34m]\u001b[0m\u001b[0;34m\u001b[0m\u001b[0m\n\u001b[0;32m---> 29\u001b[0;31m         \u001b[0msplit_pt\u001b[0m   \u001b[0;34m=\u001b[0m \u001b[0mchar_idx\u001b[0m \u001b[0;34m-\u001b[0m \u001b[0mabs_offsets\u001b[0m\u001b[0;34m[\u001b[0m\u001b[0mtok_idx\u001b[0m\u001b[0;34m]\u001b[0m\u001b[0;34m\u001b[0m\u001b[0m\n\u001b[0m\u001b[1;32m     30\u001b[0m         \u001b[0msplit_char\u001b[0m \u001b[0;34m=\u001b[0m \u001b[0msplit_word\u001b[0m\u001b[0;34m[\u001b[0m\u001b[0msplit_pt\u001b[0m\u001b[0;34m]\u001b[0m\u001b[0;34m\u001b[0m\u001b[0m\n\u001b[1;32m     31\u001b[0m         \u001b[0;32mif\u001b[0m \u001b[0msplit_char\u001b[0m \u001b[0;32min\u001b[0m \u001b[0;34m[\u001b[0m\u001b[0;34m'-'\u001b[0m\u001b[0;34m,\u001b[0m \u001b[0;34m'/'\u001b[0m\u001b[0;34m]\u001b[0m\u001b[0;34m:\u001b[0m\u001b[0;34m\u001b[0m\u001b[0m\n",
      "\u001b[0;31mNameError\u001b[0m: global name 'abs_offsets' is not defined"
     ]
    }
   ],
   "source": [
    "from utils import PubtatorCorpusParser\n",
    "\n",
    "corpus_parser = PubtatorCorpusParser('bioconcepts2pubtator_offsets.sample')\n",
    "%time corpus  = corpus_parser.parse_corpus(session, 'PubTator Sample')"
   ]
  },
  {
   "cell_type": "code",
   "execution_count": null,
   "metadata": {
    "collapsed": true
   },
   "outputs": [],
   "source": []
  }
 ],
 "metadata": {
  "kernelspec": {
   "display_name": "Python 2",
   "language": "python",
   "name": "python2"
  },
  "language_info": {
   "codemirror_mode": {
    "name": "ipython",
    "version": 2
   },
   "file_extension": ".py",
   "mimetype": "text/x-python",
   "name": "python",
   "nbconvert_exporter": "python",
   "pygments_lexer": "ipython2",
   "version": "2.7.6"
  }
 },
 "nbformat": 4,
 "nbformat_minor": 1
}
