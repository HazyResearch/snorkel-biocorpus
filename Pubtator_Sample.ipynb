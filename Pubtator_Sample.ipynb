{
 "cells": [
  {
   "cell_type": "code",
   "execution_count": 1,
   "metadata": {
    "collapsed": false
   },
   "outputs": [],
   "source": [
    "%load_ext autoreload\n",
    "%autoreload 2\n",
    "%load_ext line_profiler\n",
    "\n",
    "import os\n",
    "os.environ['SNORKELDB'] = 'postgres:///snorkel-biocorpus-sample'\n",
    "\n",
    "from snorkel import SnorkelSession\n",
    "session = SnorkelSession()"
   ]
  },
  {
   "cell_type": "code",
   "execution_count": 2,
   "metadata": {
    "collapsed": false
   },
   "outputs": [
    {
     "name": "stdout",
     "output_type": "stream",
     "text": [
      "Warning: Non-standard split: mention 'Trypan B', split on 'l' in word 'Blue'\n",
      "Warning: Non-standard split: mention 'Li', split on '7' in word '6Li/7Li'\n",
      "Warning: Non-standard split: mention 'Li', split on '7' in word '6Li/7Li'\n"
     ]
    }
   ],
   "source": [
    "from pubtator_parsers import PubtatorCorpusParser\n",
    "\n",
    "corpus_parser = PubtatorCorpusParser('bioconcepts2pubtator_offsets.sample')\n",
    "%lprun -f corpus_parser.sent_parser.parse corpus = corpus_parser.parse_corpus(session, 'PubTator Sample')"
   ]
  },
  {
   "cell_type": "markdown",
   "metadata": {},
   "source": [
    "### Estimate of PubMed abstracts / min.\n",
    "\n",
    "Approx. **200 abstracts / min.**"
   ]
  },
  {
   "cell_type": "code",
   "execution_count": 3,
   "metadata": {
    "collapsed": false
   },
   "outputs": [
    {
     "data": {
      "text/plain": [
       "212"
      ]
     },
     "execution_count": 3,
     "metadata": {},
     "output_type": "execute_result"
    }
   ],
   "source": [
    "int(651 / (184.1 / 60.0))"
   ]
  }
 ],
 "metadata": {
  "kernelspec": {
   "display_name": "Python 2",
   "language": "python",
   "name": "python2"
  },
  "language_info": {
   "codemirror_mode": {
    "name": "ipython",
    "version": 2
   },
   "file_extension": ".py",
   "mimetype": "text/x-python",
   "name": "python",
   "nbconvert_exporter": "python",
   "pygments_lexer": "ipython2",
   "version": "2.7.6"
  }
 },
 "nbformat": 4,
 "nbformat_minor": 1
}
