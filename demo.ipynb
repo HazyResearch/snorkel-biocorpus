{
 "cells": [
  {
   "cell_type": "code",
   "execution_count": 2,
   "metadata": {
    "collapsed": false
   },
   "outputs": [
    {
     "ename": "SyntaxError",
     "evalue": "invalid syntax (learning.py, line 93)",
     "traceback": [
      "\u001b[0;36m  File \u001b[0;32m\"/Users/fries/code/snorkel/snorkel/learning.py\"\u001b[0;36m, line \u001b[0;32m93\u001b[0m\n\u001b[0;31m    <<<<<<< HEAD\u001b[0m\n\u001b[0m     ^\u001b[0m\n\u001b[0;31mSyntaxError\u001b[0m\u001b[0;31m:\u001b[0m invalid syntax\n"
     ],
     "output_type": "error"
    }
   ],
   "source": [
    "from snorkel.snorkel.parser import DocPreprocessor"
   ]
  },
  {
   "cell_type": "code",
   "execution_count": null,
   "metadata": {
    "collapsed": true
   },
   "outputs": [],
   "source": [
    "class PubtatorDocParser(DocPreprocessor):\n",
    "    \"\"\"\n",
    "    Load PubTator annotation dump\n",
    "    NOTE: This service does *not* include all PubMed abstracts. \n",
    "    \n",
    "    Entity Tags:\n",
    "    \n",
    "    * Genes     -- GNormPlus  http://www.ncbi.nlm.nih.gov/CBBresearch/Lu/Demo/GNormPlus/\n",
    "    * Diseases  -- DNorm      http://www.ncbi.nlm.nih.gov/CBBresearch/Lu/Demo/DNorm/\n",
    "    * Chemicals -- tmChem     http://www.ncbi.nlm.nih.gov/CBBresearch/Lu/Demo/tmChem/\n",
    "    * Species   -- SR4GN      http://www.ncbi.nlm.nih.gov/CBBresearch/Lu/downloads/SR4GN/\n",
    "    * Mutations -- tmVar      http://www.ncbi.nlm.nih.gov/CBBresearch/Lu/pub/tmVar/\n",
    "    \n",
    "    Live demo:\n",
    "    https://www.ncbi.nlm.nih.gov/CBBresearch/Lu/Demo/PubTator/\n",
    "    \n",
    "    Latest snapshot available at:\n",
    "    ftp.ncbi.nlm.nih.gov/pub/lu/PubTator/bioconcepts2pubtator_offsets.gz\n",
    "    \n",
    "    \"\"\"\n",
    "    def _doc_generator(file_path):\n",
    "        \"\"\"\n",
    "        PubTator docs are of the form:\n",
    "        \n",
    "        UID|TITLE|TEXT\n",
    "        UID|ABSTRACT|TEXT\n",
    "        UID   SPAN   MENTION   ENTITY_TYPE  MESH_ID\n",
    "        ...\n",
    "        \n",
    "        See -- bioconcepts2pubtator_offsets.sample\n",
    "        \n",
    "        \"\"\"\n",
    "        with codecs.open(file_path, \"rU\", encoding=self.encoding) as fp:\n",
    "            lines = []\n",
    "            for line in f:\n",
    "                if len(line.rstrip()) == 0:\n",
    "                    if len(lines) > 0:\n",
    "                        yield lines\n",
    "                        lines = []\n",
    "                else:\n",
    "                    lines.append(line)\n",
    "    \n",
    "    # def parse_file(self, fp, file_name):\n",
    "    #     with codecs.open(fp, encoding=self.encoding) as tsv:\n",
    "    #         for line in tsv:\n",
    "    #             (doc_name, doc_text) = line.split('\\t')\n",
    "    #             stable_id = self.get_stable_id(doc_name)\n",
    "    #             doc = Document(\n",
    "    #                 name=doc_name, stable_id=stable_id,\n",
    "    #                 meta={'file_name': file_name}\n",
    "    #             )\n",
    "    #             yield doc, doc_text\n",
    "\n",
    "    def parse_file(self, file_path, file_name):\n",
    "        for doc in self._doc_generator(file_path):\n",
    "            print doc"
   ]
  }
 ],
 "metadata": {
  "kernelspec": {
   "display_name": "Python 2",
   "language": "python",
   "name": "python2"
  },
  "language_info": {
   "codemirror_mode": {
    "name": "ipython",
    "version": 2.0
   },
   "file_extension": ".py",
   "mimetype": "text/x-python",
   "name": "python",
   "nbconvert_exporter": "python",
   "pygments_lexer": "ipython2",
   "version": "2.7.13"
  }
 },
 "nbformat": 4,
 "nbformat_minor": 0
}